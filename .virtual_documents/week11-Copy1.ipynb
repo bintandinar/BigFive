pip install datasets 


import numpy as np
import pandas as pd
from tqdm import tqdm

import re
import string

import nltk
from nltk.corpus import stopwords
from nltk.stem import WordNetLemmatizer  
stop_words = stopwords.words('english')


from sklearn.model_selection import train_test_split
from sklearn.metrics import confusion_matrix,classification_report
from sklearn.feature_extraction.text import CountVectorizer, TfidfVectorizer
from sklearn.ensemble import RandomForestClassifier
from sklearn.metrics import confusion_matrix,classification_report

import matplotlib.pyplot as plt
import seaborn as sns

from datasets import load_dataset
from sklearn.model_selection import KFold
from sklearn.ensemble import RandomForestClassifier
from sklearn.metrics import accuracy_score
from sklearn.feature_extraction.text import TfidfVectorizer
from sklearn.preprocessing import LabelEncoder


from sklearn.metrics import classification_report
from sklearn.model_selection import KFold
from sklearn.ensemble import RandomForestClassifier
from sklearn.metrics import accuracy_score
from sklearn.preprocessing import LabelEncoder
from sklearn.feature_extraction.text import TfidfVectorizer
from sklearn.datasets import load_dataset
import numpy as np

# Memuat dataset dari Hugging Face
dataset = load_dataset("dair-ai/emotion")

# Menggabungkan data latih dan validasi
data = dataset['train']
texts = data['text']
labels = data['label']

# TF-IDF vektorizer
max_features = 10000  # Jumlah kata unik yang akan digunakan
tfidf_vectorizer = TfidfVectorizer(max_features=max_features)
x_data = tfidf_vectorizer.fit_transform(texts).toarray()

# Mengubah label menjadi bentuk numerik
label_encoder = LabelEncoder()
y_data = label_encoder.fit_transform(labels)

# K-Fold Cross Validation
kf = KFold(n_splits=5, shuffle=True, random_state=42)
accuracies = []
fold = 1

for train_index, val_index in kf.split(x_data):
    x_train, x_val = x_data[train_index], x_data[val_index]
    y_train, y_val = y_data[train_index], y_data[val_index]
    
    # Membuat model Random Forest
    model = RandomForestClassifier(n_estimators=100, random_state=42)
    model.fit(x_train, y_train)
    
    # Prediksi dan evaluasi
    y_pred = model.predict(x_val)
    accuracy = accuracy_score(y_val, y_pred)
    accuracies.append(accuracy)
    print(f'Fold {fold} accuracy: {accuracy:.4f}')
    
    fold += 1

# Rata-rata akurasi
print(f'Mean accuracy: {np.mean(accuracies):.4f}')

# Classification report untuk data validasi terakhir
final_y_pred = model.predict(x_val)
final_report = classification_report(y_val, final_y_pred, target_names=label_encoder.classes_)
print('---------------------------------------------------------')
print('Classification Report for Final Validation Set:')
print(final_report)



# Try loading a specific split of the dataset
dataset = load_dataset("dair-ai/emotion")

# Check the loaded data
print(dataset)


# Memeriksa fitur dari dataset
print(dataset['train'].features)

# Menampilkan semua label yang ada dalam dataset
labels = dataset['train'].features['labels']
print("Label IDs:", labels)

# Jika label berupa ID, maka tampilkan nama label dari IDs tersebut
if isinstance(labels, dict) and 'feature' in labels:
    label_names = labels['feature'].names
    print("Label names:", label_names)
else:
    print("Labels tidak memiliki atribut 'names'")


from sklearn.metrics import classification_report
from sklearn.model_selection import KFold
from sklearn.ensemble import RandomForestClassifier
from sklearn.metrics import accuracy_score
from sklearn.preprocessing import LabelEncoder
from sklearn.feature_extraction.text import TfidfVectorizer
from sklearn.datasets import load_dataset
import numpy as np

# Memuat dataset dari Hugging Face
dataset = load_dataset("dair-ai/emotion")

# Menggabungkan data latih dan validasi
data = dataset['train']
texts = data['text']
labels = data['label']

# TF-IDF vektorizer
max_features = 10000  # Jumlah kata unik yang akan digunakan
tfidf_vectorizer = TfidfVectorizer(max_features=max_features)
x_data = tfidf_vectorizer.fit_transform(texts).toarray()

# Mengubah label menjadi bentuk numerik
label_encoder = LabelEncoder()
y_data = label_encoder.fit_transform(labels)

# K-Fold Cross Validation
kf = KFold(n_splits=5, shuffle=True, random_state=42)
accuracies = []
fold = 1

for train_index, val_index in kf.split(x_data):
    x_train, x_val = x_data[train_index], x_data[val_index]
    y_train, y_val = y_data[train_index], y_data[val_index]
    
    # Membuat model Random Forest
    model = RandomForestClassifier(n_estimators=100, random_state=42)
    model.fit(x_train, y_train)
    
    # Prediksi dan evaluasi
    y_pred = model.predict(x_val)
    accuracy = accuracy_score(y_val, y_pred)
    accuracies.append(accuracy)
    print(f'Fold {fold} accuracy: {accuracy:.4f}')
    
    fold += 1

# Rata-rata akurasi
print(f'Mean accuracy: {np.mean(accuracies):.4f}')

# Classification report untuk data validasi terakhir
final_y_pred = model.predict(x_val)
final_report = classification_report(y_val, final_y_pred, target_names=label_encoder.classes_)
print('---------------------------------------------------------')
print('Classification Report for Final Validation Set:')
print(final_report)




