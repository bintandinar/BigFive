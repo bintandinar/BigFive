pip install datasets


import pandas as pd

# Load the new dataset from the Excel file
new_dataset_path = 'dataset.xlsx'

# Load the Excel file into a DataFrame
new_dataset_df = pd.read_excel(new_dataset_path)

# Adding word count columns for each personality trait, handling NaN or non-string values
# new_dataset_df['Extraversion_Word_Count'] = new_dataset_df['EXTRAVERSION'].astype(str).apply(lambda x: len(x.split()))
# new_dataset_df['Agreeableness_Word_Count'] = new_dataset_df['AGREEABLENESS'].astype(str).apply(lambda x: len(x.split()))
# new_dataset_df['Conscientiousness_Word_Count'] = new_dataset_df['CONSCIENTIOUSNESS'].astype(str).apply(lambda x: len(x.split()))
# new_dataset_df['Neuroticism_Word_Count'] = new_dataset_df['NEUROTICISM'].astype(str).apply(lambda x: len(x.split()))
# new_dataset_df['Openness_Word_Count'] = new_dataset_df['OPENNESS'].astype(str).apply(lambda x: len(x.split()))

# Drop No Column
df = new_dataset_df.drop("No",  axis=1)

# Display the updated DataFrame to ensure the word counts have been added correctly
df.head()






from sklearn.model_selection import train_test_split
from sklearn.preprocessing import LabelEncoder

# Prepare the data
# Assuming each personality trait column is treated as a separate class (multi-label classification)
X = df[['EXTRAVERSION', 'AGREEABLENESS', 'CONSCIENTIOUSNESS', 'NEUROTICISM', 'OPENNESS']]
y = df[['EXTRAVERSION', 'AGREEABLENESS', 'CONSCIENTIOUSNESS', 'NEUROTICISM', 'OPENNESS']]

# Since y contains text data, we'll encode it into numerical labels
le = LabelEncoder()

# Assuming the classification is based on the first column (you can adjust according to your needs)
y_encoded = le.fit_transform(y.iloc[:, 0])  # You can use any of the columns or combine them as necessary

# Split the data into training and test sets
X_train, X_test, y_train, y_test = train_test_split(X, y_encoded, test_size=0.2, random_state=42)






# ------ Case Folding --------
# Perform case folding by converting all text columns to lowercase
text_cols = df.select_dtypes(include=['object']).columns
df[text_cols] = df[text_cols].apply(lambda x: x.str.lower())

print(df.head())





import string 
import re #regex library
from nltk.tokenize import word_tokenize

# import word_tokenize & FreqDist from NLTK
from nltk.tokenize import word_tokenize 
from nltk.probability import FreqDist

# ------ Tokenizing ---------

# Define preprocessing functions
def remove_tweet_special(text):
    if isinstance(text, str):
        text = text.replace('\\t'," ").replace('\\n'," ").replace('\\u'," ").replace('\\',"")
        text = text.encode('ascii', 'replace').decode('ascii')
        text = ' '.join(re.sub("([@#][A-Za-z0-9]+)|(\w+:\/\/\S+)"," ", text).split())
        return text.replace("http://", " ").replace("https://", " ")
    return text

def remove_number(text):
    if isinstance(text, str):
        return re.sub(r"\d+", "", text)
    return text

def remove_punctuation(text):
    if isinstance(text, str):
        return text.translate(str.maketrans("", "", string.punctuation))
    return text

def remove_whitespace_LT(text):
    if isinstance(text, str):
        return text.strip()
    return text

def remove_whitespace_multiple(text):
    if isinstance(text, str):
        return re.sub('\s+', ' ', text)
    return text

def remove_singl_char(text):
    if isinstance(text, str):
        return re.sub(r"\b[a-zA-Z]\b", "", text)
    return text

def word_tokenize_wrapper(text):
    if isinstance(text, str):
        return word_tokenize(text)
    return []

# Assuming the text column is the first column in your dataframe
text_column = df.columns[0]
print(text_column)

# Apply preprocessing functions
df[text_column] = df[text_column].apply(remove_tweet_special)
df[text_column] = df[text_column].apply(remove_number)
df[text_column] = df[text_column].apply(remove_punctuation)
df[text_column] = df[text_column].apply(remove_whitespace_LT)
df[text_column] = df[text_column].apply(remove_whitespace_multiple)
df[text_column] = df[text_column].apply(remove_singl_char)
df['tokens'] = df[text_column].apply(word_tokenize_wrapper)

print('Tokenizing Result : \n') 
print(df['tokens'].head())


# NLTK calc frequency distribution
def freqDist_wrapper(text):
    return FreqDist(text)

df['tokens_fdist'] = df['tokens'].apply(freqDist_wrapper)

print('Frequency Tokens : \n') 
print(df['tokens_fdist'].head().apply(lambda x : x.most_common()))





from nltk.corpus import stopwords

# ----------------------- get stopword from NLTK stopword -------------------------------
# get stopword indonesia
list_stopwords = stopwords.words('indonesian')


# ---------------------------- manualy add stopword  ------------------------------------
# append additional stopword
list_stopwords.extend(["yg", "dg", "rt", "dgn", "ny", "d", 'klo', 
                       'kalo', 'amp', 'biar', 'bikin', 'bilang', 
                       'gak', 'ga', 'krn', 'nya', 'nih', 'sih', 
                       'si', 'tau', 'tdk', 'tuh', 'utk', 'ya', 
                       'jd', 'jgn', 'sdh', 'aja', 'n', 't', 
                       'nyg', 'hehe', 'pen', 'u', 'nan', 'loh', 'rt',
                       '&amp', 'yah'])

# ----------------------- add stopword from txt file ------------------------------------
# read txt stopword using pandas
# txt_stopword = pd.read_csv("stopwords.txt", names= ["stopwords"], header = None)

# # convert stopword string to list & append additional stopword
# list_stopwords.extend(txt_stopword["stopwords"][0].split(' '))

# ---------------------------------------------------------------------------------------

# convert list to dictionary
list_stopwords = set(list_stopwords)


#remove stopword pada list token
def stopwords_removal(words):
    return [word for word in words if word not in list_stopwords]

df['tokens_fdist'] = df['tokens'].apply(stopwords_removal) 


print(df['tokens_fdist'].head())





normalizad_word = pd.read_csv("normalisasi.csv")

normalizad_word_dict = {}

for index, row in normalizad_word.iterrows():
    if row[0] not in normalizad_word_dict:
        normalizad_word_dict[row[0]] = row[1] 

def normalized_term(document):
    return [normalizad_word_dict[term] if term in normalizad_word_dict else term for term in document]

df['normalized'] = df['tokens'].apply(normalized_term)

print(df['normalized'].head(10))





pip install Sastrawi swifter


# import Sastrawi package
from Sastrawi.Stemmer.StemmerFactory import StemmerFactory
import swifter


# create stemmer
factory = StemmerFactory()
stemmer = factory.create_stemmer()

# stemmed
def stemmed_wrapper(term):
    return stemmer.stem(term)

term_dict = {}

for document in df['normalized']:
    for term in document:
        if term not in term_dict:
            term_dict[term] = ' '
            
print(len(term_dict))
print("------------------------")

for term in term_dict:
    term_dict[term] = stemmed_wrapper(term)
    print(term,":" ,term_dict[term])
    
print(term_dict)
print("------------------------")


# apply stemmed term to dataframe
def get_stemmed_term(document):
    return [term_dict[term] for term in document]

df['tokens_stemmed'] = df['normalized'].swifter.apply(get_stemmed_term)
print(df['tokens_stemmed'])


df.to_csv("dataset_final_preprocess.csv")



