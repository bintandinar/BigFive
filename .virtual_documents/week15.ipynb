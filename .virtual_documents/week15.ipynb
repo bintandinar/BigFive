


import nltk
nltk.download()


# Memeriksa fitur dari dataset
print(dataset['train'].features)

# Menampilkan semua label yang ada dalam dataset
labels = dataset['train'].features['labels']
print("Label IDs:", labels)

# Jika label berupa ID, maka tampilkan nama label dari IDs tersebut
if isinstance(labels, dict) and 'feature' in labels:
    label_names = labels['feature'].names
    print("Label names:", label_names)
else:
    print("Labels tidak memiliki atribut 'names'")


# Combine the training and validation data
data = dataset['train']
texts = data['text']
labels = data['labels']

# TF-IDF vectorizer
max_features = 10000  # Number of unique words to use
tfidf_vectorizer = TfidfVectorizer(max_features=max_features)
x_data = tfidf_vectorizer.fit_transform(texts).toarray()

# Convert labels to binary matrix
from sklearn.preprocessing import MultiLabelBinarizer
mlb = MultiLabelBinarizer()
y_data = mlb.fit_transform(labels)

# K-Fold Cross Validation
from sklearn.model_selection import KFold
from sklearn.ensemble import RandomForestClassifier
from sklearn.metrics import accuracy_score

from sklearn.metrics import multilabel_confusion_matrix

kf = KFold(n_splits=5, shuffle=True, random_state=42)
accuracies = []

for train_index, val_index in kf.split(x_data):
    x_train, x_val = x_data[train_index], x_data[val_index]
    y_train, y_val = y_data[train_index], y_data[val_index]
    
    # Create a Random Forest model
    model = RandomForestClassifier(n_estimators=100, random_state=42)
    model.fit(x_train, y_train)
    
    # Predict and evaluate
    y_pred = model.predict(x_val)
    accuracy = accuracy_score(y_val, y_pred)
    accuracies.append(accuracy)
    print(f'Fold accuracy: {accuracy:.4f}')
    
    # Classification report and confusion matrix for the last validation fold
    if train_index.shape[0] == x_data.shape[0] - val_index.shape[0]:
        print("Classification Report:")
        print(classification_report(y_val, y_pred))
        print("Confusion Matrix:")
        print(multilabel_confusion_matrix(y_val, y_pred))

# Calculate the mean accuracy
print(f'Mean accuracy: {np.mean(accuracies):.4f}')



