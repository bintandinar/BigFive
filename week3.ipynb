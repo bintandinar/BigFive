{
 "cells": [
  {
   "cell_type": "code",
   "execution_count": 2,
   "id": "38d80ccf-a352-446e-85b0-cc8e523f13f9",
   "metadata": {},
   "outputs": [],
   "source": [
    "import numpy as np\n",
    "import pandas as pd\n",
    "from tqdm import tqdm\n",
    "\n",
    "import re\n",
    "import string\n",
    "\n",
    "import nltk\n",
    "from nltk.corpus import stopwords\n",
    "from nltk.stem import WordNetLemmatizer  \n",
    "stop_words = stopwords.words('english')\n",
    "\n",
    "\n",
    "from sklearn.model_selection import train_test_split\n",
    "from sklearn.metrics import confusion_matrix,classification_report\n",
    "from sklearn.feature_extraction.text import CountVectorizer, TfidfVectorizer\n",
    "from sklearn.ensemble import RandomForestClassifier\n",
    "from sklearn.metrics import confusion_matrix,classification_report\n",
    "\n",
    "import matplotlib.pyplot as plt\n",
    "import seaborn as sns"
   ]
  },
  {
   "cell_type": "code",
   "execution_count": 6,
   "id": "b294b11c-c1cd-41b7-94a5-30d47be85737",
   "metadata": {},
   "outputs": [
    {
     "name": "stdout",
     "output_type": "stream",
     "text": [
      "                                              Review  Rating  Category\n",
      "0  Not sure who was more lost - the flat characte...       0  Negative\n",
      "1  Attempting artiness with black & white and cle...       0  Negative\n",
      "2       Very little music or anything to speak of.         0  Negative\n",
      "4  The rest of the movie lacks art, charm, meanin...       0  Negative\n",
      "5                                Wasted two hours.         0  Negative\n"
     ]
    }
   ],
   "source": [
    "import pandas as pd\n",
    "\n",
    "# Membaca dataset dari imdb.txt\n",
    "df = pd.read_csv('imdb.txt', delimiter='\\t', header=0, quoting=3)\n",
    "\n",
    "# Memberi nama kolom baru\n",
    "df.columns = ['Review', 'Rating']\n",
    "\n",
    "# Mengkategorikan dataset berdasarkan nilai Rating (0 atau 1)\n",
    "df['Category'] = df['Rating'].apply(lambda x: 'Negative' if x == 0 else 'Positive')\n",
    "\n",
    "# Menambahkan tabel sesuai kategori\n",
    "negative_reviews = df[df['Category'] == 'Negative']\n",
    "positive_reviews = df[df['Category'] == 'Positive']\n",
    "\n",
    "# Menggabungkan kedua tabel menjadi satu\n",
    "combined_df = pd.concat([negative_reviews, positive_reviews])\n",
    "\n",
    "# Menampilkan beberapa baris pertama dari tabel gabungan\n",
    "print(combined_df.head())\n"
   ]
  },
  {
   "cell_type": "code",
   "execution_count": 12,
   "id": "efcbd72a-111c-4644-b337-f3840a94cc5b",
   "metadata": {},
   "outputs": [
    {
     "name": "stdout",
     "output_type": "stream",
     "text": [
      "Not sure who was more lost - the flat characters or the audience, nearly half of whom walked out.  \n"
     ]
    }
   ],
   "source": [
    "print(df[\"Review\"][0])"
   ]
  },
  {
   "cell_type": "code",
   "execution_count": 13,
   "id": "b5f719c5-8c39-402d-b6e2-f668d0bc6f01",
   "metadata": {},
   "outputs": [
    {
     "name": "stdout",
     "output_type": "stream",
     "text": [
      "Not sure who was more lost - the flat characters or the audience, nearly half of whom walked out.  \n",
      "Not sure who was more lost - the flat characters or the audience, nearly half of whom walked out.  \n"
     ]
    }
   ],
   "source": [
    "# Import BeautifulSoup into your workspace\n",
    "from bs4 import BeautifulSoup             \n",
    "\n",
    "# Initialize the BeautifulSoup object on a single movie review     \n",
    "example1 = BeautifulSoup(df[\"Review\"][0])  \n",
    "\n",
    "# Print the raw review and then the output of get_text(), for \n",
    "# comparison\n",
    "print(df[\"Review\"][0])\n",
    "print(example1.get_text())"
   ]
  },
  {
   "cell_type": "code",
   "execution_count": 17,
   "id": "33e1400a-4507-48af-a9f4-79943f15a02b",
   "metadata": {},
   "outputs": [
    {
     "name": "stdout",
     "output_type": "stream",
     "text": [
      "Not sure who was more lost   the flat characters or the audience  nearly half of whom walked out   \n"
     ]
    }
   ],
   "source": [
    "import re\n",
    "# Use regular expressions to do a find-and-replace\n",
    "letters_only = re.sub(\"[^a-zA-Z]\",           # The pattern to search for\n",
    "                      \" \",                   # The pattern to replace it with\n",
    "                      example1.get_text() )  # The text to search\n",
    "print(letters_only)"
   ]
  },
  {
   "cell_type": "code",
   "execution_count": 20,
   "id": "471a9b36-a61f-4b13-8556-0c068b7401c1",
   "metadata": {},
   "outputs": [
    {
     "name": "stdout",
     "output_type": "stream",
     "text": [
      "['sure', 'lost', 'flat', 'characters', 'audience', 'nearly', 'half', 'walked']\n"
     ]
    }
   ],
   "source": [
    "# Remove stop words from \"words\"\n",
    "words = [w for w in words if not w in stopwords.words(\"english\")]\n",
    "print(words)"
   ]
  },
  {
   "cell_type": "code",
   "execution_count": 37,
   "id": "31f221aa-5581-4e5a-a68c-2b10081da0da",
   "metadata": {},
   "outputs": [],
   "source": [
    "sw = stopwords.words('english')\n",
    "lemmatizer = WordNetLemmatizer() \n",
    "\n",
    "def clean_text(text):\n",
    "    \n",
    "    text = text.lower()\n",
    "    \n",
    "    text = re.sub(r\"[^a-zA-Z?.!,¿]+\", \" \", text) # replacing everything with space except (a-z, A-Z, \".\", \"?\", \"!\", \",\")\n",
    "\n",
    "    text = re.sub(r\"http\\S+\", \"\",text) #Removing URLs \n",
    "    #text = re.sub(r\"http\", \"\",text)\n",
    "    \n",
    "    html=re.compile(r'<.*?>') \n",
    "    \n",
    "    text = html.sub(r'',text) #Removing html tags\n",
    "    \n",
    "    punctuations = '@#!?+&*[]-%.:/();$=><|{}^' + \"'`\" + '_'\n",
    "    for p in punctuations:\n",
    "        text = text.replace(p,'') #Removing punctuations\n",
    "        \n",
    "    text = [word.lower() for word in text.split() if word.lower() not in sw]\n",
    "    \n",
    "    text = [lemmatizer.lemmatize(word) for word in text]\n",
    "    \n",
    "    text = \" \".join(text) #removing stopwords\n",
    "    \n",
    "    emoji_pattern = re.compile(\"[\"\n",
    "                           u\"\\U0001F600-\\U0001F64F\"  # emoticons\n",
    "                           u\"\\U0001F300-\\U0001F5FF\"  # symbols & pictographs\n",
    "                           u\"\\U0001F680-\\U0001F6FF\"  # transport & map symbols\n",
    "                           u\"\\U0001F1E0-\\U0001F1FF\"  # flags (iOS)\n",
    "                           u\"\\U00002702-\\U000027B0\"\n",
    "                           u\"\\U000024C2-\\U0001F251\"\n",
    "                           \"]+\", flags=re.UNICODE)\n",
    "    text = emoji_pattern.sub(r'', text) #Removing emojis\n",
    "    \n",
    "    return text"
   ]
  },
  {
   "cell_type": "code",
   "execution_count": 22,
   "id": "dc539037-e0c9-47f1-9cd3-9c99253cb7ec",
   "metadata": {},
   "outputs": [
    {
     "data": {
      "text/html": [
       "<div>\n",
       "<style scoped>\n",
       "    .dataframe tbody tr th:only-of-type {\n",
       "        vertical-align: middle;\n",
       "    }\n",
       "\n",
       "    .dataframe tbody tr th {\n",
       "        vertical-align: top;\n",
       "    }\n",
       "\n",
       "    .dataframe thead th {\n",
       "        text-align: right;\n",
       "    }\n",
       "</style>\n",
       "<table border=\"1\" class=\"dataframe\">\n",
       "  <thead>\n",
       "    <tr style=\"text-align: right;\">\n",
       "      <th></th>\n",
       "      <th>Review</th>\n",
       "      <th>Rating</th>\n",
       "      <th>Category</th>\n",
       "    </tr>\n",
       "  </thead>\n",
       "  <tbody>\n",
       "    <tr>\n",
       "      <th>0</th>\n",
       "      <td>sure lost flat character audience, nearly half...</td>\n",
       "      <td>0</td>\n",
       "      <td>Negative</td>\n",
       "    </tr>\n",
       "    <tr>\n",
       "      <th>1</th>\n",
       "      <td>attempting artiness black white clever camera ...</td>\n",
       "      <td>0</td>\n",
       "      <td>Negative</td>\n",
       "    </tr>\n",
       "    <tr>\n",
       "      <th>2</th>\n",
       "      <td>little music anything speak</td>\n",
       "      <td>0</td>\n",
       "      <td>Negative</td>\n",
       "    </tr>\n",
       "    <tr>\n",
       "      <th>3</th>\n",
       "      <td>best scene movie gerardo trying find song keep...</td>\n",
       "      <td>1</td>\n",
       "      <td>Positive</td>\n",
       "    </tr>\n",
       "    <tr>\n",
       "      <th>4</th>\n",
       "      <td>rest movie lack art, charm, meaning emptiness,...</td>\n",
       "      <td>0</td>\n",
       "      <td>Negative</td>\n",
       "    </tr>\n",
       "  </tbody>\n",
       "</table>\n",
       "</div>"
      ],
      "text/plain": [
       "                                              Review  Rating  Category\n",
       "0  sure lost flat character audience, nearly half...       0  Negative\n",
       "1  attempting artiness black white clever camera ...       0  Negative\n",
       "2                        little music anything speak       0  Negative\n",
       "3  best scene movie gerardo trying find song keep...       1  Positive\n",
       "4  rest movie lack art, charm, meaning emptiness,...       0  Negative"
      ]
     },
     "execution_count": 22,
     "metadata": {},
     "output_type": "execute_result"
    }
   ],
   "source": [
    "df['Review'] = df['Review'].apply(lambda x: clean_text(x))\n",
    " \n",
    "df.head()"
   ]
  },
  {
   "cell_type": "code",
   "execution_count": null,
   "id": "0301b682-0cd5-49d8-b569-e2fa38e959c4",
   "metadata": {},
   "outputs": [],
   "source": [
    "sample_corpora = df['Review'].iloc[:2].values\n",
    "sample_corpora"
   ]
  },
  {
   "cell_type": "markdown",
   "id": "3b4e96ec-ad1a-48bb-9346-081eef658b50",
   "metadata": {},
   "source": [
    "Using Word2Vec"
   ]
  },
  {
   "cell_type": "code",
   "execution_count": 38,
   "id": "35271db0-46ae-41c3-a755-996f1337cd13",
   "metadata": {},
   "outputs": [],
   "source": [
    "def review_to_wordlist( review, remove_stopwords=False ):\n",
    "    # Function to convert a document to a sequence of words,\n",
    "    # optionally removing stop words.  Returns a list of words.\n",
    "    #\n",
    "    # 1. Remove HTML\n",
    "    review_text = BeautifulSoup(review).get_text()\n",
    "    #  \n",
    "    # 2. Remove non-letters\n",
    "    review_text = re.sub(\"[^a-zA-Z]\",\" \", review_text)\n",
    "    #\n",
    "    # 3. Convert words to lower case and split them\n",
    "    words = review_text.lower().split()\n",
    "    #\n",
    "    # 4. Optionally remove stop words (false by default)\n",
    "    if remove_stopwords:\n",
    "        stops = set(stopwords.words(\"english\"))\n",
    "        words = [w for w in words if not w in stops]\n",
    "    #\n",
    "    # 5. Return a list of words\n",
    "    return(words)"
   ]
  },
  {
   "cell_type": "code",
   "execution_count": 39,
   "id": "ef0d01fb-051e-4b31-8bbd-c349855ca89e",
   "metadata": {},
   "outputs": [],
   "source": [
    "# Load the punkt tokenizer\n",
    "tokenizer = nltk.data.load('tokenizers/punkt/english.pickle')\n",
    "\n",
    "# Define a function to split a review into parsed sentences\n",
    "def review_to_sentences( review, tokenizer, remove_stopwords=False ):\n",
    "    # Function to split a review into parsed sentences. Returns a \n",
    "    # list of sentences, where each sentence is a list of words\n",
    "    #\n",
    "    # 1. Use the NLTK tokenizer to split the paragraph into sentences\n",
    "    raw_sentences = tokenizer.tokenize(review.strip())\n",
    "    #\n",
    "    # 2. Loop over each sentence\n",
    "    sentences = []\n",
    "    for raw_sentence in raw_sentences:\n",
    "        # If a sentence is empty, skip it\n",
    "        if len(raw_sentence) > 0:\n",
    "            # Otherwise, call review_to_wordlist to get a list of words\n",
    "            sentences.append( review_to_wordlist( raw_sentence, \\\n",
    "              remove_stopwords ))\n",
    "    #\n",
    "    # Return the list of sentences (each sentence is a list of words,\n",
    "    # so this returns a list of lists\n",
    "    return sentences"
   ]
  },
  {
   "cell_type": "code",
   "execution_count": 40,
   "id": "c186683b-47db-4570-85e7-b759bffabcb8",
   "metadata": {},
   "outputs": [
    {
     "name": "stdout",
     "output_type": "stream",
     "text": [
      "Parsing sentences from training set\n"
     ]
    }
   ],
   "source": [
    "sentences = []  # Initialize an empty list of sentences\n",
    "\n",
    "print(\"Parsing sentences from training set\")\n",
    "for review in df[\"Review\"]:\n",
    "    sentences += review_to_sentences(review, tokenizer)\n"
   ]
  },
  {
   "cell_type": "code",
   "execution_count": 45,
   "id": "c22c4e31-6872-4061-8261-4a44b3c254a8",
   "metadata": {},
   "outputs": [
    {
     "name": "stderr",
     "output_type": "stream",
     "text": [
      "2024-07-16 14:19:19,958 : INFO : collecting all words and their counts\n",
      "2024-07-16 14:19:19,960 : INFO : PROGRESS: at sentence #0, processed 0 words, keeping 0 word types\n",
      "2024-07-16 14:19:19,966 : INFO : collected 2793 word types from a corpus of 7447 raw words and 997 sentences\n",
      "2024-07-16 14:19:19,967 : INFO : Creating a fresh vocabulary\n",
      "2024-07-16 14:19:19,967 : INFO : Word2Vec lifecycle event {'msg': 'effective_min_count=40 retains 12 unique words (0.43% of original 2793, drops 2781)', 'datetime': '2024-07-16T14:19:19.967730', 'gensim': '4.3.0', 'python': '3.11.5 | packaged by Anaconda, Inc. | (main, Sep 11 2023, 13:26:23) [MSC v.1916 64 bit (AMD64)]', 'platform': 'Windows-10-10.0.22631-SP0', 'event': 'prepare_vocab'}\n",
      "2024-07-16 14:19:19,971 : INFO : Word2Vec lifecycle event {'msg': 'effective_min_count=40 leaves 919 word corpus (12.34% of original 7447, drops 6528)', 'datetime': '2024-07-16T14:19:19.971586', 'gensim': '4.3.0', 'python': '3.11.5 | packaged by Anaconda, Inc. | (main, Sep 11 2023, 13:26:23) [MSC v.1916 64 bit (AMD64)]', 'platform': 'Windows-10-10.0.22631-SP0', 'event': 'prepare_vocab'}\n",
      "2024-07-16 14:19:19,981 : INFO : deleting the raw counts dictionary of 2793 items\n",
      "2024-07-16 14:19:19,983 : INFO : sample=0.001 downsamples 12 most-common words\n",
      "2024-07-16 14:19:19,983 : INFO : Word2Vec lifecycle event {'msg': 'downsampling leaves estimated 106.97885086664279 word corpus (11.6%% of prior 919)', 'datetime': '2024-07-16T14:19:19.983351', 'gensim': '4.3.0', 'python': '3.11.5 | packaged by Anaconda, Inc. | (main, Sep 11 2023, 13:26:23) [MSC v.1916 64 bit (AMD64)]', 'platform': 'Windows-10-10.0.22631-SP0', 'event': 'prepare_vocab'}\n",
      "2024-07-16 14:19:19,991 : INFO : estimated required memory for 12 words and 300 dimensions: 34800 bytes\n",
      "2024-07-16 14:19:19,991 : INFO : resetting layer weights\n",
      "2024-07-16 14:19:19,991 : INFO : Word2Vec lifecycle event {'update': False, 'trim_rule': 'None', 'datetime': '2024-07-16T14:19:19.991457', 'gensim': '4.3.0', 'python': '3.11.5 | packaged by Anaconda, Inc. | (main, Sep 11 2023, 13:26:23) [MSC v.1916 64 bit (AMD64)]', 'platform': 'Windows-10-10.0.22631-SP0', 'event': 'build_vocab'}\n",
      "2024-07-16 14:19:19,991 : INFO : Word2Vec lifecycle event {'msg': 'training model with 4 workers on 12 vocabulary and 300 features, using sg=0 hs=0 sample=0.001 negative=5 window=10 shrink_windows=True', 'datetime': '2024-07-16T14:19:19.991457', 'gensim': '4.3.0', 'python': '3.11.5 | packaged by Anaconda, Inc. | (main, Sep 11 2023, 13:26:23) [MSC v.1916 64 bit (AMD64)]', 'platform': 'Windows-10-10.0.22631-SP0', 'event': 'train'}\n",
      "2024-07-16 14:19:20,035 : INFO : EPOCH 0: training on 7447 raw words (97 effective words) took 0.0s, 12126 effective words/s\n",
      "2024-07-16 14:19:20,045 : INFO : EPOCH 1: training on 7447 raw words (114 effective words) took 0.0s, 34050 effective words/s\n",
      "2024-07-16 14:19:20,056 : INFO : EPOCH 2: training on 7447 raw words (98 effective words) took 0.0s, 24062 effective words/s\n",
      "2024-07-16 14:19:20,066 : INFO : EPOCH 3: training on 7447 raw words (109 effective words) took 0.0s, 38478 effective words/s\n",
      "2024-07-16 14:19:20,074 : INFO : EPOCH 4: training on 7447 raw words (106 effective words) took 0.0s, 46489 effective words/s\n",
      "2024-07-16 14:19:20,080 : INFO : Word2Vec lifecycle event {'msg': 'training on 37235 raw words (524 effective words) took 0.1s, 7027 effective words/s', 'datetime': '2024-07-16T14:19:20.080743', 'gensim': '4.3.0', 'python': '3.11.5 | packaged by Anaconda, Inc. | (main, Sep 11 2023, 13:26:23) [MSC v.1916 64 bit (AMD64)]', 'platform': 'Windows-10-10.0.22631-SP0', 'event': 'train'}\n",
      "2024-07-16 14:19:20,081 : INFO : Word2Vec lifecycle event {'params': 'Word2Vec<vocab=12, vector_size=300, alpha=0.025>', 'datetime': '2024-07-16T14:19:20.081728', 'gensim': '4.3.0', 'python': '3.11.5 | packaged by Anaconda, Inc. | (main, Sep 11 2023, 13:26:23) [MSC v.1916 64 bit (AMD64)]', 'platform': 'Windows-10-10.0.22631-SP0', 'event': 'created'}\n",
      "C:\\Users\\Novia Natasya\\AppData\\Local\\Temp\\ipykernel_19124\\3799526275.py:23: DeprecationWarning: Call to deprecated `init_sims` (Gensim 4.0.0 implemented internal optimizations that make calls to init_sims() unnecessary. init_sims() is now obsoleted and will be completely removed in future versions. See https://github.com/RaRe-Technologies/gensim/wiki/Migrating-from-Gensim-3.x-to-4).\n",
      "  model.init_sims(replace=True)\n",
      "2024-07-16 14:19:20,086 : WARNING : destructive init_sims(replace=True) deprecated & no longer required for space-efficiency\n",
      "2024-07-16 14:19:20,086 : INFO : Word2Vec lifecycle event {'fname_or_handle': '300features_40minwords_10context', 'separately': 'None', 'sep_limit': 10485760, 'ignore': frozenset(), 'datetime': '2024-07-16T14:19:20.086717', 'gensim': '4.3.0', 'python': '3.11.5 | packaged by Anaconda, Inc. | (main, Sep 11 2023, 13:26:23) [MSC v.1916 64 bit (AMD64)]', 'platform': 'Windows-10-10.0.22631-SP0', 'event': 'saving'}\n",
      "2024-07-16 14:19:20,086 : INFO : not storing attribute cum_table\n",
      "2024-07-16 14:19:20,093 : INFO : saved 300features_40minwords_10context\n"
     ]
    },
    {
     "name": "stdout",
     "output_type": "stream",
     "text": [
      "Training model...\n"
     ]
    }
   ],
   "source": [
    "# Import the built-in logging module and configure it so that Word2Vec \n",
    "# creates nice output messages\n",
    "import logging\n",
    "logging.basicConfig(format='%(asctime)s : %(levelname)s : %(message)s',\\\n",
    "    level=logging.INFO)\n",
    "\n",
    "# Set values for various parameters\n",
    "num_features = 300    # Word vector dimensionality                      \n",
    "min_word_count = 40   # Minimum word count                        \n",
    "num_workers = 4       # Number of threads to run in parallel\n",
    "context = 10          # Context window size                                                                                    \n",
    "downsampling = 1e-3   # Downsample setting for frequent words\n",
    "\n",
    "# Initialize and train the model (this will take some time)\n",
    "from gensim.models import word2vec\n",
    "print(\"Training model...\")\n",
    "model = word2vec.Word2Vec(sentences, workers=num_workers, \\\n",
    "            vector_size=num_features, min_count = min_word_count, \\\n",
    "            window = context, sample = downsampling)\n",
    "\n",
    "# If you don't plan to train the model any further, calling \n",
    "# init_sims will make the model much more memory-efficient.\n",
    "model.init_sims(replace=True)\n",
    "\n",
    "# It can be helpful to create a meaningful model name and \n",
    "# save the model for later use. You can load it later using Word2Vec.load()\n",
    "model_name = \"300features_40minwords_10context\"\n",
    "model.save(model_name)"
   ]
  },
  {
   "cell_type": "code",
   "execution_count": 7,
   "id": "74971098-2f5a-4837-942e-71b5036e43f2",
   "metadata": {},
   "outputs": [
    {
     "name": "stdout",
     "output_type": "stream",
     "text": [
      "      and  document  first  is  one  second  the  third  this\n",
      "Doc0    0         1      1   1    0       0    1      0     1\n",
      "Doc1    0         2      0   1    0       1    1      0     1\n",
      "Doc2    1         0      0   1    1       0    1      1     1\n",
      "Doc3    0         1      1   1    0       0    1      0     1\n"
     ]
    }
   ],
   "source": [
    "from sklearn.feature_extraction.text import CountVectorizer\n",
    "import pandas as pd\n",
    "\n",
    "# Your sample corpora\n",
    "sample_corpora = [\"This is the first document.\",\n",
    "                  \"This document is the second document.\",\n",
    "                  \"And this is the third one.\",\n",
    "                  \"Is this the first document?\"]\n",
    "\n",
    "count_vectorizer = CountVectorizer()\n",
    "wm = count_vectorizer.fit_transform(sample_corpora)\n",
    "\n",
    "doc_names = ['Doc{:d}'.format(idx) for idx, _ in enumerate(wm)]\n",
    "feat_names = count_vectorizer.get_feature_names_out()\n",
    "\n",
    "sample_df = pd.DataFrame(data=wm.toarray(), index=doc_names, columns=feat_names)\n",
    "print(sample_df)\n"
   ]
  },
  {
   "cell_type": "code",
   "execution_count": 25,
   "id": "41811a4f-2cc9-4769-880c-41414eb8fbd5",
   "metadata": {},
   "outputs": [],
   "source": [
    "X_train, X_test , y_train, y_test = train_test_split(df['Review'].values,df['Rating'].values,test_size=0.2,random_state=123,stratify=df['Rating'].values)"
   ]
  },
  {
   "cell_type": "code",
   "execution_count": null,
   "id": "4bbd431b-063e-46a8-86c0-39a82d992f27",
   "metadata": {},
   "outputs": [],
   "source": []
  }
 ],
 "metadata": {
  "kernelspec": {
   "display_name": "Python 3 (ipykernel)",
   "language": "python",
   "name": "python3"
  },
  "language_info": {
   "codemirror_mode": {
    "name": "ipython",
    "version": 3
   },
   "file_extension": ".py",
   "mimetype": "text/x-python",
   "name": "python",
   "nbconvert_exporter": "python",
   "pygments_lexer": "ipython3",
   "version": "3.11.5"
  }
 },
 "nbformat": 4,
 "nbformat_minor": 5
}
